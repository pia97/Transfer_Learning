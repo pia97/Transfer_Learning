{
 "cells": [
  {
   "cell_type": "code",
   "execution_count": 114,
   "metadata": {},
   "outputs": [],
   "source": [
    "import pandas as pd"
   ]
  },
  {
   "cell_type": "code",
   "execution_count": 115,
   "metadata": {},
   "outputs": [],
   "source": [
    "def get_epoch_number( line ):\n",
    "    \n",
    "    if \"Epoch \" in line:\n",
    "        \n",
    "        num = line[ 6: ]\n",
    "        \n",
    "        ind = num.index( \"/\" )\n",
    "        \n",
    "        return num[ :ind ]\n",
    "    \n",
    "    return \"none\""
   ]
  },
  {
   "cell_type": "code",
   "execution_count": 116,
   "metadata": {},
   "outputs": [],
   "source": [
    "def split_accuracy( line ):\n",
    "    \n",
    "    if \"val_accuracy\" in line:\n",
    "        \n",
    "        params = line.split( \" - \" )\n",
    "        \n",
    "        # extract numbers\n",
    "        params[ 2 ] = params[ 2 ] [ 6: ]\n",
    "        params[ 3 ] = params[ 3 ] [ 10: ]\n",
    "        params[ 4 ] = params[ 4 ] [ 10: ]\n",
    "        params[ 5 ] = params[ 5 ] [ 14: ( len ( params[5] ) - 1 ) ]\n",
    "        \n",
    "        return params[ 2: ]\n",
    "        \n",
    "    return \"none\""
   ]
  },
  {
   "cell_type": "code",
   "execution_count": 117,
   "metadata": {},
   "outputs": [],
   "source": [
    "file = open( 'script.log', 'r' ) \n",
    "line = file.readline()\n",
    "\n",
    "fd = open( 'training_results.csv', 'w' )\n",
    "fd.write( 'set;model;epochs;loss;accuracy;val_loss;val_accuracy\\n' )\n",
    "fd.close()\n",
    "\n",
    "f = open( 'training_results.csv', 'a' )\n",
    "\n",
    "cnt = 0\n",
    "\n",
    "dataset_names = pd.read_csv( 'DataSummary.csv' )  \n",
    "UCR128 = dataset_names[ 'Name' ]\n",
    "\n",
    "models = [ 'inception', 'cnn', 'resnet', 'encoder' ]\n",
    "\n",
    "current_name = 0\n",
    "current_model = 0\n",
    "\n",
    "search_epochs = [ 20, 100, 500, 1000 ]\n",
    "\n",
    "do_print = False\n",
    "\n",
    "cnt = 0\n",
    "\n",
    "while line:\n",
    "    \n",
    "    if \"Epoch\" in line:\n",
    "        \n",
    "        cnt = int( get_epoch_number( line ) )\n",
    "        \n",
    "        \n",
    "    if \"val_accuracy\" in line:\n",
    "        \n",
    "        if cnt in search_epochs:\n",
    "            \n",
    "            vals = split_accuracy( line )\n",
    "            \n",
    "            f.write( UCR128[ current_name ] + \";\" + models[ current_model ] + \";\" + str( cnt ) + \";\" + vals[0] + \";\" + vals[1] + \";\" + vals[2] + \";\" + vals[3] + \"\\n\" )\n",
    "            \n",
    "            if cnt == search_epochs[ -1 ]:\n",
    "                \n",
    "                current_model += 1\n",
    "\n",
    "                if current_model == 4:\n",
    "            \n",
    "                    current_name += 1\n",
    "                    current_model = 0\n",
    "        \n",
    "    line = file.readline()\n",
    "    \n"
   ]
  },
  {
   "cell_type": "code",
   "execution_count": 118,
   "metadata": {},
   "outputs": [],
   "source": [
    "file.close()\n",
    "f.close()"
   ]
  },
  {
   "cell_type": "code",
   "execution_count": null,
   "metadata": {},
   "outputs": [],
   "source": []
  }
 ],
 "metadata": {
  "kernelspec": {
   "display_name": "Python 3",
   "language": "python",
   "name": "python3"
  },
  "language_info": {
   "codemirror_mode": {
    "name": "ipython",
    "version": 3
   },
   "file_extension": ".py",
   "mimetype": "text/x-python",
   "name": "python",
   "nbconvert_exporter": "python",
   "pygments_lexer": "ipython3",
   "version": "3.7.6"
  }
 },
 "nbformat": 4,
 "nbformat_minor": 4
}
